{
 "cells": [
  {
   "cell_type": "markdown",
   "id": "4dd481b0",
   "metadata": {},
   "source": [
    "## Howdy"
   ]
  },
  {
   "cell_type": "markdown",
   "id": "27b95c6b",
   "metadata": {},
   "source": [
    "Welcome to the notebook"
   ]
  },
  {
   "cell_type": "code",
   "execution_count": 1,
   "id": "84390197",
   "metadata": {},
   "outputs": [
    {
     "name": "stdout",
     "output_type": "stream",
     "text": [
      "500\n"
     ]
    }
   ],
   "source": [
    "a = 5\n",
    "b = 100\n",
    "print(a*b)"
   ]
  },
  {
   "cell_type": "code",
   "execution_count": null,
   "id": "9e8335e3",
   "metadata": {},
   "outputs": [],
   "source": []
  }
 ],
 "metadata": {
  "kernelspec": {
   "display_name": "Python 3 (ipykernel)",
   "language": "python",
   "name": "python3"
  },
  "language_info": {
   "codemirror_mode": {
    "name": "ipython",
    "version": 3
   },
   "file_extension": ".py",
   "mimetype": "text/x-python",
   "name": "python",
   "nbconvert_exporter": "python",
   "pygments_lexer": "ipython3",
   "version": "3.9.13"
  }
 },
 "nbformat": 4,
 "nbformat_minor": 5
}
